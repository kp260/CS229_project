{
 "cells": [
  {
   "cell_type": "code",
   "execution_count": null,
   "metadata": {},
   "outputs": [],
   "source": []
  },
  {
   "cell_type": "code",
   "execution_count": null,
   "metadata": {},
   "outputs": [],
   "source": []
  },
  {
   "cell_type": "code",
   "execution_count": null,
   "metadata": {},
   "outputs": [],
   "source": []
  },
  {
   "cell_type": "code",
   "execution_count": null,
   "metadata": {},
   "outputs": [],
   "source": []
  },
  {
   "cell_type": "code",
   "execution_count": null,
   "metadata": {},
   "outputs": [],
   "source": []
  },
  {
   "cell_type": "code",
   "execution_count": null,
   "metadata": {},
   "outputs": [],
   "source": []
  },
  {
   "cell_type": "code",
   "execution_count": null,
   "metadata": {},
   "outputs": [],
   "source": []
  },
  {
   "cell_type": "code",
   "execution_count": null,
   "metadata": {},
   "outputs": [],
   "source": []
  },
  {
   "cell_type": "code",
   "execution_count": null,
   "metadata": {},
   "outputs": [],
   "source": []
  },
  {
   "cell_type": "code",
   "execution_count": null,
   "metadata": {},
   "outputs": [],
   "source": []
  },
  {
   "cell_type": "code",
   "execution_count": null,
   "metadata": {},
   "outputs": [],
   "source": []
  },
  {
   "cell_type": "code",
   "execution_count": null,
   "metadata": {},
   "outputs": [],
   "source": []
  },
  {
   "cell_type": "code",
   "execution_count": null,
   "metadata": {},
   "outputs": [],
   "source": [
    "# class distribution historgram\n",
    "\n",
    "import matplotlib.pyplot as plt\n",
    "import matplotlib as mpl\n",
    "\n",
    "y = [92.72, 2.68, 2.06, 0.94, 0.86, 0.74]\n",
    "x = [0, 1,2,3,4,5]\n",
    "width = 1/1.5\n",
    "fig, ax = plt.subplots()\n",
    "rects1 = ax.bar(x, y, width, color=\"blue\")\n",
    "\n",
    "plt.xticks(x)\n",
    "plt.yticks([0, 20, 40, 60, 80, 100])\n",
    "plt.xlabel(\"Classes\")\n",
    "plt.ylabel('% Frequency')\n",
    "plt.title('Histogram of mortgage loan delinquency status')\n",
    "#for a,b in zip(x, y):¡\n",
    "#    plt.text(a, b, str(b))\n",
    "    \n",
    "def autolabel(rects, ax):\n",
    "    # Get y-axis height to calculate label position from.\n",
    "    (y_bottom, y_top) = ax.get_ylim()\n",
    "    y_height = y_top - y_bottom\n",
    "\n",
    "    for rect in rects:\n",
    "        height = rect.get_height()\n",
    "        label_position = height + (y_height * 0.01)\n",
    "\n",
    "        ax.text(rect.get_x() + rect.get_width()/2., label_position,\n",
    "                '%.2f' % (height),\n",
    "                ha='center', va='bottom')\n",
    "\n",
    "autolabel(rects1, ax)\n",
    "\n",
    "#plt.grid() \n",
    "plt.show()\n",
    "plt.savefig('histogram.png', dpi=300)"
   ]
  },
  {
   "cell_type": "code",
   "execution_count": null,
   "metadata": {},
   "outputs": [],
   "source": []
  },
  {
   "cell_type": "code",
   "execution_count": null,
   "metadata": {},
   "outputs": [],
   "source": [
    "# tSNE diagram\n",
    "\n",
    "import pandas as pd\n",
    "path = \"data/train/X.csv\"\n",
    "data_set = pd.read_csv(path,header=0)\n",
    "X_train = data_set.loc[:,'ORIG_RT':'X12' ] #shape (train_m, #features)'ORIG_CHN_B':'RELOCATION_FLG'\n",
    "X_train = pd.DataFrame.as_matrix(X_train)\n",
    "#X = tf.data.Dataset.from_tensors(X_train)\n",
    "#print(\"X type\", type(X))\n",
    "\n",
    "path = \"data/train/Y.csv\"\n",
    "data_set = pd.read_csv(path,header=0)\n",
    "Y_train = data_set.loc[:, \"0\":\"5\"]\n",
    "Y_train = pd.DataFrame.as_matrix(Y_train)"
   ]
  },
  {
   "cell_type": "code",
   "execution_count": null,
   "metadata": {},
   "outputs": [],
   "source": []
  },
  {
   "cell_type": "code",
   "execution_count": null,
   "metadata": {},
   "outputs": [],
   "source": [
    "import numpy as np\n",
    "\n",
    "idx_0 = np.where(np.equal(np.argmax(Y_train, axis=1), 0))\n",
    "i_0 = np.take(X_train, idx_0, axis = 0)\n",
    "i_0 = np.squeeze(i_0, axis = 0)\n",
    "Y_0 = np.take(np.argmax(Y_train, axis=1), idx_0, axis = 0)\n",
    "Y_0 = np.squeeze(Y_0, axis = 0)\n",
    "Y_0 = np.reshape(Y_0, [i_0.shape[0], 1])\n",
    "\n",
    "idx_1 = np.where(np.equal(np.argmax(Y_train, axis=1), 1))\n",
    "i_1 = np.take(X_train, idx_1, axis = 0)\n",
    "i_1 = np.squeeze(i_1, axis = 0)\n",
    "Y_1 = np.take(np.argmax(Y_train, axis=1), idx_1, axis = 0)\n",
    "Y_1 = np.squeeze(Y_1, axis = 0)\n",
    "Y_1 = np.reshape(Y_1, [i_1.shape[0], 1])\n",
    "\n",
    "idx_2 = np.where(np.equal(np.argmax(Y_train, axis=1), 2))\n",
    "i_2 = np.take(X_train, idx_2, axis = 0)\n",
    "i_2 = np.squeeze(i_2, axis = 0)\n",
    "Y_2 = np.take(np.argmax(Y_train, axis=1), idx_2, axis = 0)\n",
    "Y_2 = np.squeeze(Y_2, axis = 0)\n",
    "Y_2 = np.reshape(Y_2, [i_2.shape[0], 1])\n",
    "\n",
    "idx_3 = np.where(np.equal(np.argmax(Y_train, axis=1), 3))\n",
    "i_3 = np.take(X_train, idx_3, axis = 0)\n",
    "i_3 = np.squeeze(i_3, axis = 0)\n",
    "Y_3 = np.take(np.argmax(Y_train, axis=1), idx_3, axis = 0)\n",
    "Y_3 = np.squeeze(Y_3, axis = 0)\n",
    "Y_3 = np.reshape(Y_3, [i_3.shape[0], 1])\n",
    "\n",
    "idx_4 = np.where(np.equal(np.argmax(Y_train, axis=1), 4))\n",
    "i_4 = np.take(X_train, idx_4, axis = 0)\n",
    "i_4 = np.squeeze(i_4, axis = 0)\n",
    "Y_4 = np.take(np.argmax(Y_train, axis=1), idx_4, axis = 0)\n",
    "Y_4 = np.squeeze(Y_4, axis = 0)\n",
    "Y_4 = np.reshape(Y_4, [i_4.shape[0], 1])\n",
    "\n",
    "idx_5 = np.where(np.equal(np.argmax(Y_train, axis=1), 5))\n",
    "i_5 = np.take(X_train, idx_5, axis = 0)\n",
    "i_5 = np.squeeze(i_5, axis = 0)\n",
    "Y_5 = np.take(np.argmax(Y_train, axis=1), idx_5, axis = 0)\n",
    "Y_5 = np.squeeze(Y_5, axis = 0)\n",
    "Y_5 = np.reshape(Y_5, [i_5.shape[0], 1])\n"
   ]
  },
  {
   "cell_type": "code",
   "execution_count": null,
   "metadata": {},
   "outputs": [],
   "source": [
    "n = 10000\n",
    "\n",
    "np.take(i_0,np.random.permutation(i_0.shape[0]),axis=0,out=i_0)\n",
    "i_0_reduced = i_0[0:n, :]\n",
    "\n",
    "np.take(i_1,np.random.permutation(i_1.shape[0]),axis=0,out=i_1)\n",
    "i_1_reduced = i_1[0:n, :]\n",
    "\n",
    "np.take(i_2,np.random.permutation(i_2.shape[0]),axis=0,out=i_2)\n",
    "i_2_reduced = i_2[0:n, :]\n",
    "\n",
    "np.take(i_3,np.random.permutation(i_3.shape[0]),axis=0,out=i_3)\n",
    "i_3_reduced = i_3[0:n, :]\n",
    "\n",
    "np.take(i_4,np.random.permutation(i_4.shape[0]),axis=0,out=i_4)\n",
    "i_4_reduced = i_4[0:n, :]\n",
    "\n",
    "np.take(i_5,np.random.permutation(i_5.shape[0]),axis=0,out=i_5)\n",
    "i_5_reduced = i_5[0:n, :]"
   ]
  },
  {
   "cell_type": "code",
   "execution_count": null,
   "metadata": {},
   "outputs": [],
   "source": [
    "y_0 = np.ones((n, 21))*0\n",
    "y_1 = np.ones((n, 21))*1\n",
    "y_2 = np.ones((n, 21))*2\n",
    "y_3 = np.ones((n, 21))*3\n",
    "y_4 = np.ones((n, 21))*4\n",
    "y_5 = np.ones((n, 21))*5\n",
    "\n",
    "y_0[:, :-1] = i_0_reduced\n",
    "y_1[:, :-1] = i_1_reduced\n",
    "y_2[:, :-1] = i_2_reduced\n",
    "y_3[:, :-1] = i_3_reduced\n",
    "y_4[:, :-1] = i_4_reduced\n",
    "y_5[:, :-1] = i_5_reduced\n",
    "\n",
    "dataset = np.concatenate([y_0, y_1, y_2, y_3, y_4, y_5], axis = 0)\n"
   ]
  },
  {
   "cell_type": "code",
   "execution_count": null,
   "metadata": {},
   "outputs": [],
   "source": [
    "dataset.shape"
   ]
  },
  {
   "cell_type": "code",
   "execution_count": null,
   "metadata": {},
   "outputs": [],
   "source": []
  },
  {
   "cell_type": "code",
   "execution_count": null,
   "metadata": {},
   "outputs": [],
   "source": []
  },
  {
   "cell_type": "code",
   "execution_count": null,
   "metadata": {},
   "outputs": [],
   "source": [
    "from sklearn.manifold import TSNE\n",
    "tsneData = TSNE(2).fit_transform(dataset)"
   ]
  },
  {
   "cell_type": "code",
   "execution_count": null,
   "metadata": {},
   "outputs": [],
   "source": [
    "import matplotlib.cm as cm\n",
    "\n",
    "colvals = [dt for dt in dataset[:, -1]]\n",
    "minima = min(colvals)\n",
    "minima\n",
    "maxima = max(colvals)\n",
    "norm = matplotlib.colors.Normalize(vmin=minima, vmax=maxima, clip=True)\n",
    "mapper = cm.ScalarMappable(norm=norm, cmap=cm.Blues_r)\n",
    "mycolors = [mapper.to_rgba(v) for v in colvals]"
   ]
  },
  {
   "cell_type": "code",
   "execution_count": null,
   "metadata": {},
   "outputs": [],
   "source": [
    "import matplotlib\n",
    "import matplotlib.pyplot as plt\n",
    "from pylab import rcParams\n",
    "\n",
    "rcParams['figure.figsize'] = 15, 15\n",
    "fig, ax = plt.subplots()\n",
    "scatter = ax.scatter(tsneData[:,0],\n",
    "                     tsneData[:,1],\n",
    "                     c=mycolors,\n",
    "                     cmap=plt.cm.PuOr,\n",
    "                     s=10)\n",
    "plt.show()"
   ]
  },
  {
   "cell_type": "code",
   "execution_count": null,
   "metadata": {},
   "outputs": [],
   "source": []
  },
  {
   "cell_type": "code",
   "execution_count": null,
   "metadata": {},
   "outputs": [],
   "source": []
  },
  {
   "cell_type": "code",
   "execution_count": null,
   "metadata": {},
   "outputs": [],
   "source": []
  },
  {
   "cell_type": "code",
   "execution_count": null,
   "metadata": {},
   "outputs": [],
   "source": [
    "# recall\n",
    "import matplotlib\n",
    "import matplotlib.cm as cm\n",
    "from matplotlib import pyplot as plt\n",
    "import numpy as np\n",
    "randn = np.random.randn\n",
    "\n",
    "from pandas import *\n",
    "\n",
    "idx = Index(np.arange(1,7))\n",
    "values = np.array( [[0,0.693707095594502,0.999961260130476,0.706588877008662, 0.6722240300828, 0.685596516510932],[0,0.266894457099468,0.00238637596268576,0.268548391262352, 0.274294805241763, 0.291915764027707],[0,0.315466505508809,0.124905087319666,0.301107443736796, 0.317396267542704, 0.291275781383168],[0,0.157167650659353,0.439488323803325,0.163441959927479, 0.224268720396283, 0.244011590968962],[0,0.215401422528009,0.484356840686161,0.193708645189283, 0.221815711858016, 0.238820964984323],[0,0.466412533122588,0.646181023662312,0.480873351618552, 0.449699120346696, 0.514862680075827],]\n",
    " )\n",
    "\n",
    "df = DataFrame(values, index=idx, columns=['1NNC', 'SVM', 'RFC', 'Baseline', 'DeepNN', 'ConvNet'])\n",
    "vals = np.around(df.values,2)\n",
    "normal = matplotlib.colors.Normalize(vals.min(), vals.max())\n",
    "\n",
    "mapper = cm.ScalarMappable(norm=normal, cmap=cm.Blues_r)\n",
    "mycolors = [mapper.to_rgba(v) for v in vals]\n",
    "\n",
    "fig = plt.figure(figsize=(15,8), dpi=600)\n",
    "ax = fig.add_subplot(111, frameon=True, xticks=[], yticks=[])\n",
    "tab_2 = [[\"{:.2%}\".format(j) for j in i] for i in df.values]\n",
    "the_table=plt.table(cellText=tab_2, rowLabels=['Class 0', 'Class 1', 'Class 2', 'Class 3', 'Class 4', 'Class 5'], \n",
    "                    colLabels=df.columns, \n",
    "                    colWidths = [0.05]*vals.shape[1], loc='center', \n",
    "                    cellColours=mycolors)"
   ]
  },
  {
   "cell_type": "code",
   "execution_count": null,
   "metadata": {},
   "outputs": [],
   "source": [
    "# precision\n",
    "import matplotlib\n",
    "import matplotlib.cm as cm\n",
    "from matplotlib import pyplot as plt\n",
    "import numpy as np\n",
    "randn = np.random.randn\n",
    "\n",
    "from pandas import *\n",
    "\n",
    "idx = Index(np.arange(1,7))\n",
    "values = np.array([[0,0.429582431712735,0.232720551773881,0.427495284251212, 0.440065383279721, 0.4511910617594],[0,0.244890269651579,1,0.244222631838048, 0.248086323231861, 0.257898908753383],[0,0.274294491339877,0.999937972956209,0.277615805605454, 0.278303860807307, 0.294172391541253],[0,0.310562334461166,0.999964742177171,0.309015214327778, 0.318249686098392, 0.339563157565603],[0,0.27073270489249,0.999984003839079,0.264732728077476, 0.293527244193303, 0.337036920943883],[0,0.552944850644818,0.991075566541099,0.532946575163668, 0.587111919151593, 0.552886687430145],]\n",
    ")\n",
    "\n",
    "df = DataFrame(values, index=idx, columns=['1NNC', 'SVM', 'RFC', 'Baseline', 'DeepNN', 'ConvNet'])\n",
    "vals = np.around(df.values,2)\n",
    "normal = matplotlib.colors.Normalize(vals.min(), vals.max())\n",
    "\n",
    "mapper = cm.ScalarMappable(norm=normal, cmap=cm.Blues_r)\n",
    "mycolors = [mapper.to_rgba(v) for v in vals]\n",
    "\n",
    "fig = plt.figure(figsize=(15,8), dpi=600)\n",
    "ax = fig.add_subplot(111, frameon=True, xticks=[], yticks=[])\n",
    "tab_2 = [[\"{:.2%}\".format(j) for j in i] for i in df.values]\n",
    "the_table=plt.table(cellText=tab_2, rowLabels=['Class 0', 'Class 1', 'Class 2', 'Class 3', 'Class 4', 'Class 5'], \n",
    "                    colLabels=df.columns, \n",
    "                    colWidths = [0.05]*vals.shape[1], loc='center', \n",
    "                    cellColours=mycolors)"
   ]
  },
  {
   "cell_type": "code",
   "execution_count": null,
   "metadata": {},
   "outputs": [],
   "source": [
    "# F1\n",
    "import matplotlib\n",
    "import matplotlib.cm as cm\n",
    "from matplotlib import pyplot as plt\n",
    "import numpy as np\n",
    "randn = np.random.randn\n",
    "\n",
    "from pandas import *\n",
    "\n",
    "idx = Index(np.arange(1,7))\n",
    "values = np.array([[0,0.53059228948078,0.377569513823776,0.532700170135513, 0.531916463277189, 0.544226601585107],[0,0.255419328288764,0.00476138946001515,0.255808506859108, 0.260533108892597, 0.27385503049545],[0,0.293443361380876,0.222070694547759,0.288884836272939, 0.296567358169386, 0.292716920712281],[0,0.208711667172541,0.610610847672923,0.213801610089869, 0.263118998409525, 0.283964810061069],[0,0.239918189114319,0.652611689050584,0.223718979496692, 0.252682039624019, 0.279553287927703],[0,0.50600586717325,0.782301598840618,0.505572634868191, 0.509299580211439, 0.533197640441474],]\n",
    ")\n",
    "\n",
    "df = DataFrame(values, index=idx, columns=['1NNC', 'SVM', 'RFC', 'Baseline', 'DeepNN', 'ConvNet'])\n",
    "vals = np.around(df.values,2)\n",
    "normal = matplotlib.colors.Normalize(vals.min(), vals.max())\n",
    "\n",
    "mapper = cm.ScalarMappable(norm=normal, cmap=cm.Blues_r)\n",
    "mycolors = [mapper.to_rgba(v) for v in vals]\n",
    "\n",
    "fig = plt.figure(figsize=(15,8), dpi=600)\n",
    "ax = fig.add_subplot(111, frameon=True, xticks=[], yticks=[])\n",
    "tab_2 = [[\"{:.2%}\".format(j) for j in i] for i in df.values]\n",
    "the_table=plt.table(cellText=tab_2, rowLabels=['Class 0', 'Class 1', 'Class 2', 'Class 3', 'Class 4', 'Class 5'], \n",
    "                    colLabels=df.columns, \n",
    "                    colWidths = [0.05]*vals.shape[1], loc='center', \n",
    "                    cellColours=mycolors)"
   ]
  },
  {
   "cell_type": "code",
   "execution_count": null,
   "metadata": {},
   "outputs": [],
   "source": [
    "# setup the colorbar\n",
    "fig = plt.figure(figsize=(15,8), dpi=600)\n",
    "ax = fig.add_subplot(111, frameon=True, xticks=[], yticks=[])\n",
    "colormap = cm.Blues_r\n",
    "normal = matplotlib.colors.Normalize(0.0, 1.0)\n",
    "scalarmappaple = cm.ScalarMappable(norm=normal, cmap=colormap)\n",
    "scalarmappaple.set_array([0.00, 0.25, 0.50, 0.75, 1.00])\n",
    "plt.colorbar(scalarmappaple).ax.tick_params(labelsize = 20)"
   ]
  }
 ],
 "metadata": {
  "kernelspec": {
   "display_name": "Python 3",
   "language": "python",
   "name": "python3"
  },
  "language_info": {
   "codemirror_mode": {
    "name": "ipython",
    "version": 3
   },
   "file_extension": ".py",
   "mimetype": "text/x-python",
   "name": "python",
   "nbconvert_exporter": "python",
   "pygments_lexer": "ipython3",
   "version": "3.6.4"
  }
 },
 "nbformat": 4,
 "nbformat_minor": 2
}
